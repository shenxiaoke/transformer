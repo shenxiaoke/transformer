{
 "cells": [
  {
   "cell_type": "code",
   "execution_count": null,
   "id": "8cbc1fbf-a78a-4ef1-9347-98fa20610056",
   "metadata": {},
   "outputs": [],
   "source": [
    "# https://peterbloem.nl/blog/transformers"
   ]
  },
  {
   "cell_type": "code",
   "execution_count": 68,
   "id": "fb09b7a0-f1a9-4ac1-9a1c-49a1d102398b",
   "metadata": {},
   "outputs": [],
   "source": [
    "import torch\n",
    "from torch import nn\n",
    "import torch.nn.functional as F\n",
    "import torch.optim as optim\n",
    "from torchtext.datasets import IMDB # 1 means negative while 2 means positive\n",
    "from torchtext.vocab import GloVe\n",
    "from torch.utils.data import Dataset, DataLoader"
   ]
  },
  {
   "cell_type": "code",
   "execution_count": 5,
   "id": "b904d5cd-074a-46b1-bc71-d5ed4f0f48ce",
   "metadata": {},
   "outputs": [
    {
     "data": {
      "text/plain": [
       "'2.1.1'"
      ]
     },
     "execution_count": 5,
     "metadata": {},
     "output_type": "execute_result"
    }
   ],
   "source": [
    "torch.__version__"
   ]
  },
  {
   "cell_type": "code",
   "execution_count": 44,
   "id": "dcd7f559-69c4-4ea7-9ca4-8732b9fe016e",
   "metadata": {},
   "outputs": [
    {
     "name": "stdout",
     "output_type": "stream",
     "text": [
      "Using mps device\n"
     ]
    }
   ],
   "source": [
    "device = (\n",
    "    \"cuda\"\n",
    "    if torch.cuda.is_available()\n",
    "    else \"mps\"\n",
    "    if torch.backends.mps.is_available()\n",
    "    else \"cpu\"\n",
    ")\n",
    "print(f\"Using {device} device\")"
   ]
  },
  {
   "cell_type": "code",
   "execution_count": null,
   "id": "6bfc7b23-b7ae-4b04-9154-23fee600bc8d",
   "metadata": {},
   "outputs": [],
   "source": []
  },
  {
   "cell_type": "code",
   "execution_count": 51,
   "id": "351e8a13-df66-49e8-b904-c1a4ace21e4b",
   "metadata": {},
   "outputs": [],
   "source": [
    "def scaled_dot_product_attention(query,key,value,mask=None):\n",
    "    product = torch.matmul(query,key.transpose(-2,-1))\n",
    "    key_dim = key.shape[-1]\n",
    "    scaled_product = product / torch.math.sqrt(key_dim)\n",
    "    if mask is not None:\n",
    "        scaled_product += mask* 1e-9\n",
    "    attention = torch.matmul(torch.softmax(scaled_product,axis=-1),value)\n",
    "    return attention"
   ]
  },
  {
   "cell_type": "code",
   "execution_count": 52,
   "id": "3aaefd5a-94d7-4846-a449-5a722482fb48",
   "metadata": {},
   "outputs": [
    {
     "data": {
      "text/plain": [
       "torch.Size([3, 100, 64])"
      ]
     },
     "execution_count": 52,
     "metadata": {},
     "output_type": "execute_result"
    }
   ],
   "source": [
    "query,key,value = [torch.rand((3,100,64)) for i in range(3)]\n",
    "scaled_dot_product_attention(query,key,value).shape"
   ]
  },
  {
   "cell_type": "code",
   "execution_count": null,
   "id": "d04b1f1a-b5a6-4ba1-aa81-52fc49756c4e",
   "metadata": {},
   "outputs": [],
   "source": []
  },
  {
   "cell_type": "code",
   "execution_count": 83,
   "id": "e972c818-c811-4577-903a-f2aab97b8b3a",
   "metadata": {},
   "outputs": [],
   "source": [
    "class MultiHeadAttention(nn.Module):\n",
    "    def __init__(self,k,heads=4,mask=False):\n",
    "        super().__init__()\n",
    "        assert k%heads==0\n",
    "        self.mask = mask\n",
    "        self.heads = heads\n",
    "        self.tokeys = nn.Linear(k,k,bias=False)\n",
    "        self.toqueries = nn.Linear(k,k,bias=False)\n",
    "        self.tovalues = nn.Linear(k,k,bias=False)\n",
    "        self.unifyheads = nn.Linear(k,k)\n",
    "    def forward(self,x):\n",
    "        b,t,k = x.shape\n",
    "        h = self.heads\n",
    "        keys = self.tokeys(x)\n",
    "        queries = self.toqueries(x)\n",
    "        values = self.tovalues(x)\n",
    "        s = k//h\n",
    "        keys = keys.view(b,t,h,s)\n",
    "        queries = queries.view(b,t,h,s)\n",
    "        values = values.view(b,t,h,s)\n",
    "        # fold heads into batch dimension\n",
    "        keys = keys.transpose(1,2).reshape(b*h,t,s)\n",
    "        queries = queries.transpose(1,2).reshape(b*h,t,s)\n",
    "        values = values.transpose(1,2).reshape(b*h,t,s)\n",
    "        product = torch.bmm(queries,keys.transpose(1,2))\n",
    "        scaled_product = product/torch.math.sqrt(s)\n",
    "        if self.mask is not None:\n",
    "            scaled_product += self.mask* 1e-9\n",
    "        scaled_product = F.softmax(scaled_product,dim=-1)\n",
    "        attention = torch.bmm(scaled_product,values).view(b,h,t,s)\n",
    "        attention = attention.transpose(1,2).reshape(b,t,k)\n",
    "        return self.unifyheads(attention)"
   ]
  },
  {
   "cell_type": "code",
   "execution_count": 69,
   "id": "f3f22250-21c1-41c9-83a9-2817a32b9c22",
   "metadata": {},
   "outputs": [
    {
     "data": {
      "text/plain": [
       "torch.Size([16, 100, 256])"
      ]
     },
     "execution_count": 69,
     "metadata": {},
     "output_type": "execute_result"
    }
   ],
   "source": [
    "k = 256\n",
    "x = torch.rand((16,100,k))\n",
    "a = MultiHeadAttention(k)\n",
    "a.forward(x).shape"
   ]
  },
  {
   "cell_type": "code",
   "execution_count": null,
   "id": "fe30ed37-3734-4865-84ea-e4aa904eb7c7",
   "metadata": {},
   "outputs": [],
   "source": []
  },
  {
   "cell_type": "code",
   "execution_count": 85,
   "id": "060260ad-f54e-4328-9137-57026da1bb6a",
   "metadata": {},
   "outputs": [],
   "source": [
    "class TransformerBlock(nn.Module):\n",
    "    def __init__(self,k,heads):\n",
    "        super().__init__()\n",
    "        self.attention = MultiHeadAttention(k,heads)\n",
    "        self.norm1 = nn.LayerNorm(k)\n",
    "        self.norm2 = nn.LayerNorm(k)\n",
    "        self.ff = nn.Sequential(\n",
    "            nn.Linear(k,4*k),\n",
    "            nn.ReLU(),\n",
    "            nn.Linear(4*k,k))\n",
    "    def forward(self,x):\n",
    "        attention = self.attention(x)\n",
    "        x = self.norm1(x+attention)\n",
    "        fedforward = self.ff(x)\n",
    "        return self.norm2(x+fedforward)"
   ]
  },
  {
   "cell_type": "code",
   "execution_count": 92,
   "id": "88542752-e036-4885-8fc3-7dc1ba03f77b",
   "metadata": {},
   "outputs": [
    {
     "data": {
      "text/plain": [
       "torch.Size([16, 100, 256])"
      ]
     },
     "execution_count": 92,
     "metadata": {},
     "output_type": "execute_result"
    }
   ],
   "source": [
    "k = 256\n",
    "heads = 4\n",
    "x = torch.rand((16,100,k))\n",
    "a = TransformerBlock(k,heads)\n",
    "# a.forward(x)\n",
    "a(x).shape"
   ]
  },
  {
   "cell_type": "code",
   "execution_count": null,
   "id": "fb21c6b0-f457-4c45-b4c5-b1ee77b22126",
   "metadata": {},
   "outputs": [],
   "source": []
  },
  {
   "cell_type": "code",
   "execution_count": 123,
   "id": "33810969-6ae4-4c6c-9c2a-84e3bc9e2a62",
   "metadata": {},
   "outputs": [],
   "source": [
    "class PositionalEmbedding(nn.Module):\n",
    "    def __init__(self, max_len, d_model):\n",
    "        super().__init__()\n",
    "\n",
    "        # Compute the positional encodings once in log space\n",
    "        pe = torch.zeros(max_len, d_model).float().to(device)\n",
    "        position = torch.arange(0, max_len).float().unsqueeze(1).to(device)\n",
    "        div_term = torch.exp(torch.arange(0, d_model, 2).float() * -(torch.log(torch.tensor(10000.0)) / d_model)).to(device)\n",
    "        pe[:, 0::2] = torch.sin(position * div_term)\n",
    "        pe[:, 1::2] = torch.cos(position * div_term)\n",
    "        pe = pe.unsqueeze(0)\n",
    "\n",
    "        self.register_buffer('pe', pe)\n",
    "\n",
    "    def forward(self, x):\n",
    "        return x + self.pe[:, :x.size(1)].detach()"
   ]
  },
  {
   "cell_type": "code",
   "execution_count": 125,
   "id": "5c8f4133-2544-48a7-bd6f-f55fab3a0b64",
   "metadata": {},
   "outputs": [
    {
     "name": "stdout",
     "output_type": "stream",
     "text": [
      "torch.Size([1, 20, 512])\n"
     ]
    }
   ],
   "source": [
    "# Example usage\n",
    "max_len = 100  # Maximum sequence length\n",
    "d_model = 512  # Embedding dimension\n",
    "\n",
    "positional_embedding = PositionalEmbedding(max_len, d_model)\n",
    "\n",
    "# Example input tensor\n",
    "input_tensor = torch.rand((1, 20, d_model)).to(device)  # Batch size of 1, sequence length of 20\n",
    "\n",
    "# Add positional embeddings to the input tensor\n",
    "output_tensor = positional_embedding(input_tensor)\n",
    "\n",
    "print(output_tensor.shape)\n"
   ]
  },
  {
   "cell_type": "code",
   "execution_count": null,
   "id": "631bbeb3-5b77-4d7a-a1e6-51c4e3188f9c",
   "metadata": {},
   "outputs": [],
   "source": []
  },
  {
   "cell_type": "code",
   "execution_count": 86,
   "id": "febb8957-9c1c-48b1-8c37-aa509ea02813",
   "metadata": {},
   "outputs": [],
   "source": [
    "class Transformer(nn.Module):\n",
    "    def __init__(self,k,heads,depth,seq_length,num_classes):\n",
    "        super().__init__()\n",
    "        self.add_pos_emb = PositionalEmbedding(seq_length,k)\n",
    "        t_blocks = []\n",
    "        for i in range(depth):\n",
    "            t_blocks.append(TransformerBlock(k,heads))\n",
    "        self.tblocks = nn.Sequential(*t_blocks)\n",
    "        self.toprobs = nn.Linear(k,num_classes)\n",
    "    def forward(self,x):\n",
    "        \"\"\"\n",
    "        x: shape(b,t,k) tensor of word embeddings\n",
    "        return: shape(b,num_classes) log_probabilities over classes\n",
    "        \"\"\"\n",
    "        b,t,k = x.shape\n",
    "        x = self.add_pos_emb(x)\n",
    "        x = self.tblocks(x)\n",
    "        x = self.toprobs(x.mean(dim=1))\n",
    "        return F.log_softmax(x,dim=1)"
   ]
  },
  {
   "cell_type": "code",
   "execution_count": null,
   "id": "12f53b15-c225-4c1f-918e-fe51ea56688f",
   "metadata": {},
   "outputs": [],
   "source": []
  },
  {
   "cell_type": "code",
   "execution_count": 65,
   "id": "fb5494a2-3c70-4909-9c6b-0e373f321e49",
   "metadata": {},
   "outputs": [],
   "source": [
    "max_token_len = 64\n",
    "\n",
    "from torchtext.datasets import IMDB # 1 means negative while 2 means positive\n",
    "from torchtext.vocab import GloVe\n",
    "\n",
    "train_iter = IMDB(split='train')\n",
    "\n",
    "tokens_list = []\n",
    "labels_list = []\n",
    "for label, line in train_iter:\n",
    "    token = line.split()\n",
    "    if len(token) < max_token_len:\n",
    "        token += ['' for i in range(max_token_len-len(token))]\n",
    "    else:\n",
    "        token = token[:max_token_len]\n",
    "    tokens_list.append(token)\n",
    "    labels_list.append(label)\n",
    "labels_list = [i-1 for i in labels_list] # now 0 means negative while 1 means positive\n",
    "\n",
    "tokens_embedding_list = []\n",
    "\n",
    "glove = GloVe(name='6B', dim=50)\n",
    "for tokens in tokens_list:\n",
    "    embedding_vectors = [glove[token] for token in tokens]\n",
    "    tokens_embedding_list.append(embedding_vectors)"
   ]
  },
  {
   "cell_type": "code",
   "execution_count": 49,
   "id": "6a041923-0626-489e-86b9-793f1427778a",
   "metadata": {},
   "outputs": [
    {
     "data": {
      "text/plain": [
       "64"
      ]
     },
     "execution_count": 49,
     "metadata": {},
     "output_type": "execute_result"
    }
   ],
   "source": [
    "len(tokens_embedding_list[0])"
   ]
  },
  {
   "cell_type": "code",
   "execution_count": 51,
   "id": "28912e89-7fbc-4866-8550-c9974d3c05da",
   "metadata": {},
   "outputs": [],
   "source": [
    "# tokens_embedding_list[0]"
   ]
  },
  {
   "cell_type": "code",
   "execution_count": 89,
   "id": "51a0a65f-c30c-4885-806a-d813370e5f27",
   "metadata": {},
   "outputs": [
    {
     "name": "stdout",
     "output_type": "stream",
     "text": [
      "64\n",
      "torch.Size([64, 64, 50])\n",
      "tensor([1, 0, 0, 1, 0, 0, 1, 0, 0, 0, 0, 0, 0, 1, 0, 0, 0, 0, 1, 1, 0, 1, 1, 0,\n",
      "        1, 0, 1, 1, 1, 1, 1, 0, 0, 1, 0, 0, 1, 1, 0, 0, 0, 1, 0, 0, 1, 1, 1, 0,\n",
      "        1, 0, 0, 0, 0, 0, 1, 0, 0, 1, 0, 1, 1, 0, 1, 1])\n"
     ]
    }
   ],
   "source": [
    "from torch.utils.data import Dataset, DataLoader\n",
    "\n",
    "class MyTextDataset(Dataset):\n",
    "    def __init__(self, text_data, labels):\n",
    "        self.text_data = text_data\n",
    "        self.labels = labels\n",
    "\n",
    "    def __len__(self):\n",
    "        return len(self.text_data)\n",
    "\n",
    "    def __getitem__(self, index):\n",
    "        text = self.text_data[index]\n",
    "        label = self.labels[index]\n",
    "        return {'text': text, 'label': label}\n",
    "\n",
    "dataset = MyTextDataset(tokens_embedding_list,labels_list)\n",
    "\n",
    "batch_size = 64\n",
    "shuffle = True\n",
    "\n",
    "dataloader = DataLoader(dataset, batch_size=batch_size, shuffle=shuffle)\n",
    "\n",
    "for batch in dataloader:\n",
    "    # Process your batch here\n",
    "    print(len(batch['text']))\n",
    "    print(torch.stack(batch['text']).shape)\n",
    "    print(batch['label'])\n",
    "    break"
   ]
  },
  {
   "cell_type": "code",
   "execution_count": 81,
   "id": "0d6e788f-a890-4acb-9bde-6fe2cfa93522",
   "metadata": {},
   "outputs": [
    {
     "data": {
      "text/plain": [
       "torch.Size([64, 64, 50])"
      ]
     },
     "execution_count": 81,
     "metadata": {},
     "output_type": "execute_result"
    }
   ],
   "source": [
    "torch.stack(batch['text']).shape"
   ]
  },
  {
   "cell_type": "code",
   "execution_count": 79,
   "id": "4e1ebff5-4e4e-4238-bd88-e3011f827181",
   "metadata": {},
   "outputs": [
    {
     "data": {
      "text/plain": [
       "torch.Size([64, 50])"
      ]
     },
     "execution_count": 79,
     "metadata": {},
     "output_type": "execute_result"
    }
   ],
   "source": [
    "batch['text'][0].shape"
   ]
  },
  {
   "cell_type": "code",
   "execution_count": 76,
   "id": "7c94abb2-bb19-4c32-9802-2c5f41c763db",
   "metadata": {},
   "outputs": [
    {
     "data": {
      "text/plain": [
       "tensor([[0., 0., 0.,  ..., 0., 0., 0.],\n",
       "        [0., 0., 0.,  ..., 0., 0., 0.],\n",
       "        [0., 0., 0.,  ..., 0., 0., 0.],\n",
       "        ...,\n",
       "        [0., 0., 0.,  ..., 0., 0., 0.],\n",
       "        [0., 0., 0.,  ..., 0., 0., 0.],\n",
       "        [0., 0., 0.,  ..., 0., 0., 0.]])"
      ]
     },
     "execution_count": 76,
     "metadata": {},
     "output_type": "execute_result"
    }
   ],
   "source": [
    "batch['text'][0]"
   ]
  },
  {
   "cell_type": "code",
   "execution_count": 107,
   "id": "1001871c-d69d-44de-9b48-da23558399db",
   "metadata": {
    "tags": []
   },
   "outputs": [
    {
     "name": "stdout",
     "output_type": "stream",
     "text": [
      "Epoch 1, Average Loss: 0.1811889263675036\n",
      "Epoch 2, Average Loss: 0.18038019652256881\n",
      "Epoch 3, Average Loss: 0.1800206754823475\n",
      "Epoch 4, Average Loss: 0.17941849966488227\n",
      "Epoch 5, Average Loss: 0.17975087223760308\n",
      "Epoch 6, Average Loss: 0.17949201292394068\n",
      "Epoch 7, Average Loss: 0.17938252224031923\n",
      "Epoch 8, Average Loss: 0.17924889533416086\n",
      "Epoch 9, Average Loss: 0.1793128976126766\n",
      "Epoch 10, Average Loss: 0.17922661203862456\n"
     ]
    }
   ],
   "source": [
    "k=50\n",
    "heads=5\n",
    "depth=4\n",
    "seq_length=64\n",
    "num_classes=2\n",
    "\n",
    "model = Transformer(k, heads, depth, seq_length, num_classes)\n",
    "criterion = nn.CrossEntropyLoss()\n",
    "optimizer = optim.Adam(model.parameters(), lr=0.001)\n",
    "\n",
    "# Training loop\n",
    "epochs = 10\n",
    "\n",
    "for epoch in range(epochs):\n",
    "    _ = model.train()\n",
    "    total_loss = 0.0\n",
    "    \n",
    "    dataset = MyTextDataset(tokens_embedding_list,labels_list)\n",
    "    batch_size = 64\n",
    "    shuffle = True\n",
    "    dataloader = DataLoader(dataset, batch_size=batch_size, shuffle=shuffle)\n",
    "    count = 0\n",
    "    for batch in dataloader:\n",
    "        inputs, labels = batch['text'], batch['label']\n",
    "        \n",
    "        inputs = torch.stack(inputs)\n",
    "        \n",
    "        # Zero the gradients\n",
    "        optimizer.zero_grad()\n",
    "\n",
    "        # Forward pass\n",
    "        outputs = model(inputs)\n",
    "\n",
    "        # Compute the loss\n",
    "        loss = criterion(outputs, labels)\n",
    "\n",
    "        # Backward pass\n",
    "        loss.backward()\n",
    "\n",
    "        # Update weights\n",
    "        optimizer.step()\n",
    "\n",
    "        total_loss += loss.item()\n",
    "        \n",
    "        count += 1\n",
    "        print(count,end='\\r')\n",
    "        if count > 100:\n",
    "            break\n",
    "\n",
    "    # Print average loss for the epoch\n",
    "    print(f\"Epoch {epoch + 1}, Average Loss: {total_loss / len(dataloader)}\")\n",
    "\n",
    "# Optionally, save your trained model\n",
    "torch.save(model.state_dict(), 'transformer_model.pth')\n"
   ]
  },
  {
   "cell_type": "code",
   "execution_count": null,
   "id": "16b439ec-87fb-48c6-9eb2-057b8c8560ad",
   "metadata": {},
   "outputs": [],
   "source": []
  },
  {
   "cell_type": "code",
   "execution_count": 98,
   "id": "500a2625-b49b-48c7-b57a-3ae39b5a8480",
   "metadata": {},
   "outputs": [],
   "source": [
    "test_iter = IMDB(split='test')\n",
    "\n",
    "test_tokens_list = []\n",
    "test_labels_list = []\n",
    "for label, line in test_iter:\n",
    "    token = line.split()\n",
    "    if len(token) < max_token_len:\n",
    "        token += ['' for i in range(max_token_len-len(token))]\n",
    "    else:\n",
    "        token = token[:max_token_len]\n",
    "    test_tokens_list.append(token)\n",
    "    test_labels_list.append(label)\n",
    "test_labels_list = [i-1 for i in test_labels_list] # now 0 means negative while 1 means positive\n",
    "\n",
    "test_tokens_embedding_list = []\n",
    "\n",
    "glove = GloVe(name='6B', dim=50)\n",
    "for tokens in test_tokens_list:\n",
    "    embedding_vectors = [glove[token] for token in tokens]\n",
    "    test_tokens_embedding_list.append(embedding_vectors)"
   ]
  },
  {
   "cell_type": "code",
   "execution_count": 105,
   "id": "2fa3822f-6f91-4d46-a45f-7cecca3c8f6c",
   "metadata": {},
   "outputs": [
    {
     "data": {
      "text/plain": [
       "25000"
      ]
     },
     "execution_count": 105,
     "metadata": {},
     "output_type": "execute_result"
    }
   ],
   "source": [
    "len(test_tokens_embedding_list)"
   ]
  },
  {
   "cell_type": "code",
   "execution_count": 127,
   "id": "92bd7c21-5ab0-4c15-ad66-80ba44d959e2",
   "metadata": {},
   "outputs": [],
   "source": [
    "# device = torch.device('mps')\n",
    "device = torch.device('cpu')"
   ]
  },
  {
   "cell_type": "code",
   "execution_count": 128,
   "id": "a47dc56a-1549-4c3a-a147-105e2824780b",
   "metadata": {},
   "outputs": [
    {
     "name": "stdout",
     "output_type": "stream",
     "text": [
      "Test Loss: 0.18008186216549496, Accuracy: 0.49860767326732675\n"
     ]
    }
   ],
   "source": [
    "test_dataset = MyTextDataset(test_tokens_embedding_list,test_labels_list)\n",
    "batch_size = 64\n",
    "shuffle = True\n",
    "test_dataloader = DataLoader(test_dataset, batch_size=batch_size, shuffle=shuffle)\n",
    "\n",
    "_ = model.eval()  # Set the model to evaluation mode\n",
    "\n",
    "total_loss = 0.0\n",
    "correct_predictions = 0\n",
    "total_samples = 0\n",
    "\n",
    "with torch.no_grad():\n",
    "    count = 0\n",
    "    for batch in test_dataloader:\n",
    "        inputs, labels = batch['text'], batch['label']\n",
    "        \n",
    "        inputs = torch.stack(inputs)\n",
    "        inputs = inputs.to(device)\n",
    "        labels = labels.to(device)\n",
    "        \n",
    "        # Forward pass\n",
    "        outputs = model(inputs)\n",
    "\n",
    "        # Compute the loss\n",
    "        loss = criterion(outputs, labels)\n",
    "        total_loss += loss.item()\n",
    "\n",
    "        # Calculate accuracy\n",
    "        _, predicted = torch.max(outputs, 1)\n",
    "        correct_predictions += (predicted == labels).sum().item()\n",
    "        total_samples += labels.size(0)\n",
    "        \n",
    "        count += 1\n",
    "        print(count,end='\\r')\n",
    "        if count > 100:\n",
    "            break\n",
    "\n",
    "# Print average loss and accuracy for the test set\n",
    "average_loss = total_loss / len(test_dataloader)\n",
    "accuracy = correct_predictions / total_samples\n",
    "print(f\"Test Loss: {average_loss}, Accuracy: {accuracy}\")"
   ]
  },
  {
   "cell_type": "code",
   "execution_count": null,
   "id": "1b4bcfdd-8697-423e-be6e-25313016f1da",
   "metadata": {},
   "outputs": [],
   "source": []
  }
 ],
 "metadata": {
  "kernelspec": {
   "display_name": "Python 3 (ipykernel)",
   "language": "python",
   "name": "python3"
  },
  "language_info": {
   "codemirror_mode": {
    "name": "ipython",
    "version": 3
   },
   "file_extension": ".py",
   "mimetype": "text/x-python",
   "name": "python",
   "nbconvert_exporter": "python",
   "pygments_lexer": "ipython3",
   "version": "3.9.13"
  }
 },
 "nbformat": 4,
 "nbformat_minor": 5
}
